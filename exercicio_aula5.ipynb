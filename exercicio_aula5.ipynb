{
 "cells": [
  {
   "cell_type": "code",
   "execution_count": 4,
   "metadata": {},
   "outputs": [
    {
     "name": "stdout",
     "output_type": "stream",
     "text": [
      "Requirement already satisfied: pandas in c:\\users\\igor\\appdata\\local\\programs\\python\\python312\\lib\\site-packages (2.2.2)Note: you may need to restart the kernel to use updated packages.\n",
      "\n",
      "Requirement already satisfied: numpy>=1.26.0 in c:\\users\\igor\\appdata\\local\\programs\\python\\python312\\lib\\site-packages (from pandas) (2.1.1)\n",
      "Requirement already satisfied: python-dateutil>=2.8.2 in c:\\users\\igor\\appdata\\roaming\\python\\python312\\site-packages (from pandas) (2.9.0.post0)\n",
      "Requirement already satisfied: pytz>=2020.1 in c:\\users\\igor\\appdata\\local\\programs\\python\\python312\\lib\\site-packages (from pandas) (2024.2)\n",
      "Requirement already satisfied: tzdata>=2022.7 in c:\\users\\igor\\appdata\\local\\programs\\python\\python312\\lib\\site-packages (from pandas) (2024.1)\n",
      "Requirement already satisfied: six>=1.5 in c:\\users\\igor\\appdata\\roaming\\python\\python312\\site-packages (from python-dateutil>=2.8.2->pandas) (1.16.0)\n"
     ]
    }
   ],
   "source": [
    "pip install pandas"
   ]
  },
  {
   "cell_type": "code",
   "execution_count": 5,
   "metadata": {},
   "outputs": [],
   "source": [
    "import pandas as pd"
   ]
  },
  {
   "cell_type": "code",
   "execution_count": 7,
   "metadata": {},
   "outputs": [],
   "source": [
    "dict1= {\n",
    "    'Nome': ['Anderson','Beatriz','Bruno','Cristiano','Daniel','Douglas','Elena','Fabricio'],\n",
    "    'Chave': ['C0','C1','C2','C3','C4','C5','C6','C7'],\n",
    "    'Chave1': ['C0','C1','C2','C3','C0','C1','C2','C3'],\n",
    "    'Idade': [24,36,45,56,29,20,38,47],\n",
    "    'Cidade': ['Santos','Atibaia','Guarulhos','Atibaia','Santos','Guarulhos','Guarulhos','Atibaia'],\n",
    "    'Registro': [32123, 45828, 34985, 13457, 98439, 99348, 45019, 24894],\n",
    "    'Departamento': ['RH', 'PD', 'RH', 'ADM', 'ADM', 'RH', 'ADM', 'PD'],\n",
    "    'Formação': ['Graduação', 'Mestrado', 'Graduação', 'Técnico', 'Graduação', 'Técnico', 'Graduação', 'Graduação']\n",
    "}"
   ]
  },
  {
   "cell_type": "code",
   "execution_count": 8,
   "metadata": {},
   "outputs": [],
   "source": [
    "dafra1 = pd.DataFrame(dict1)"
   ]
  },
  {
   "cell_type": "code",
   "execution_count": 9,
   "metadata": {},
   "outputs": [
    {
     "name": "stdout",
     "output_type": "stream",
     "text": [
      "        Nome Chave Chave1  Idade     Cidade  Registro Departamento   Formação\n",
      "0   Anderson    C0     C0     24     Santos     32123           RH  Graduação\n",
      "1    Beatriz    C1     C1     36    Atibaia     45828           PD   Mestrado\n",
      "2      Bruno    C2     C2     45  Guarulhos     34985           RH  Graduação\n",
      "3  Cristiano    C3     C3     56    Atibaia     13457          ADM    Técnico\n",
      "4     Daniel    C4     C0     29     Santos     98439          ADM  Graduação\n",
      "5    Douglas    C5     C1     20  Guarulhos     99348           RH    Técnico\n",
      "6      Elena    C6     C2     38  Guarulhos     45019          ADM  Graduação\n",
      "7   Fabricio    C7     C3     47    Atibaia     24894           PD  Graduação\n"
     ]
    }
   ],
   "source": [
    "print(dafra1)"
   ]
  },
  {
   "cell_type": "code",
   "execution_count": 10,
   "metadata": {},
   "outputs": [],
   "source": [
    "dict2= {\n",
    "    'Nome': ['Gabriel','Janaina','Luiz','Marcos','Nadja','Oswaldo','Patricia','Ricardo'],\n",
    "    'Chave': ['C0','C1','C2','C3','C4','C5','C6','C7'],\n",
    "    'Chave1': ['C0','C0','C0','C0','C1','C1','C1','C1'],\n",
    "    'Idade': [23,56,32,22,36,68,22,38],\n",
    "    'Cidade': ['Guarulhos','Guarulhos','Atibaia','Guarulhos','Santos','Guarulhos','Guarulhos','Santos'],\n",
    "    'Registro': [32948, 13480, 22884, 56821, 65938, 12956, 75439, 45392],\n",
    "    'Departamento': ['PD', 'ADM', 'PD', 'ADM', 'PD', 'RH', 'ADM', 'PD'],\n",
    "    'Formação': ['Técnico', 'Graduação', 'Graduação', 'Graduação', 'Graduação', 'Mestrado', 'Graduação', 'Mestrado']\n",
    "}"
   ]
  },
  {
   "cell_type": "code",
   "execution_count": 11,
   "metadata": {},
   "outputs": [],
   "source": [
    "dafra2 = pd.DataFrame(dict2)"
   ]
  },
  {
   "cell_type": "code",
   "execution_count": 12,
   "metadata": {},
   "outputs": [
    {
     "name": "stdout",
     "output_type": "stream",
     "text": [
      "       Nome Chave Chave1  Idade     Cidade  Registro Departamento   Formação\n",
      "0   Gabriel    C0     C0     23  Guarulhos     32948           PD    Técnico\n",
      "1   Janaina    C1     C0     56  Guarulhos     13480          ADM  Graduação\n",
      "2      Luiz    C2     C0     32    Atibaia     22884           PD  Graduação\n",
      "3    Marcos    C3     C0     22  Guarulhos     56821          ADM  Graduação\n",
      "4     Nadja    C4     C1     36     Santos     65938           PD  Graduação\n",
      "5   Oswaldo    C5     C1     68  Guarulhos     12956           RH   Mestrado\n",
      "6  Patricia    C6     C1     22  Guarulhos     75439          ADM  Graduação\n",
      "7   Ricardo    C7     C1     38     Santos     45392           PD   Mestrado\n"
     ]
    }
   ],
   "source": [
    "print(dafra2)"
   ]
  },
  {
   "cell_type": "markdown",
   "metadata": {},
   "source": [
    "### Junção Interna"
   ]
  },
  {
   "cell_type": "code",
   "execution_count": 17,
   "metadata": {},
   "outputs": [
    {
     "name": "stdout",
     "output_type": "stream",
     "text": [
      "Junção interna:\n",
      "     Nome_x Chave Chave1  Idade_x   Cidade_x  Registro_x Departamento_x  \\\n",
      "0  Anderson    C0     C0       24     Santos       32123             RH   \n",
      "1   Douglas    C5     C1       20  Guarulhos       99348             RH   \n",
      "\n",
      "  Formação_x   Nome_y  Idade_y   Cidade_y  Registro_y Departamento_y  \\\n",
      "0  Graduação  Gabriel       23  Guarulhos       32948             PD   \n",
      "1    Técnico  Oswaldo       68  Guarulhos       12956             RH   \n",
      "\n",
      "  Formação_y  \n",
      "0    Técnico  \n",
      "1   Mestrado  \n"
     ]
    }
   ],
   "source": [
    "inner_join = pd.merge(dafra1, dafra2, on=['Chave', 'Chave1'], how='inner')\n",
    "print(\"Junção interna:\")\n",
    "print(inner_join)"
   ]
  },
  {
   "cell_type": "markdown",
   "metadata": {},
   "source": [
    "### Junção Externa à Esquerda"
   ]
  },
  {
   "cell_type": "code",
   "execution_count": 18,
   "metadata": {},
   "outputs": [
    {
     "name": "stdout",
     "output_type": "stream",
     "text": [
      "\n",
      "Junção externa à esquerda:\n",
      "      Nome_x Chave Chave1  Idade_x   Cidade_x  Registro_x Departamento_x  \\\n",
      "0   Anderson    C0     C0       24     Santos       32123             RH   \n",
      "1    Beatriz    C1     C1       36    Atibaia       45828             PD   \n",
      "2      Bruno    C2     C2       45  Guarulhos       34985             RH   \n",
      "3  Cristiano    C3     C3       56    Atibaia       13457            ADM   \n",
      "4     Daniel    C4     C0       29     Santos       98439            ADM   \n",
      "5    Douglas    C5     C1       20  Guarulhos       99348             RH   \n",
      "6      Elena    C6     C2       38  Guarulhos       45019            ADM   \n",
      "7   Fabricio    C7     C3       47    Atibaia       24894             PD   \n",
      "\n",
      "  Formação_x   Nome_y  Idade_y   Cidade_y  Registro_y Departamento_y  \\\n",
      "0  Graduação  Gabriel     23.0  Guarulhos     32948.0             PD   \n",
      "1   Mestrado      NaN      NaN        NaN         NaN            NaN   \n",
      "2  Graduação      NaN      NaN        NaN         NaN            NaN   \n",
      "3    Técnico      NaN      NaN        NaN         NaN            NaN   \n",
      "4  Graduação      NaN      NaN        NaN         NaN            NaN   \n",
      "5    Técnico  Oswaldo     68.0  Guarulhos     12956.0             RH   \n",
      "6  Graduação      NaN      NaN        NaN         NaN            NaN   \n",
      "7  Graduação      NaN      NaN        NaN         NaN            NaN   \n",
      "\n",
      "  Formação_y  \n",
      "0    Técnico  \n",
      "1        NaN  \n",
      "2        NaN  \n",
      "3        NaN  \n",
      "4        NaN  \n",
      "5   Mestrado  \n",
      "6        NaN  \n",
      "7        NaN  \n"
     ]
    }
   ],
   "source": [
    "left_join = pd.merge(dafra1, dafra2, on=['Chave', 'Chave1'], how='left')\n",
    "print(\"\\nJunção externa à esquerda:\")\n",
    "print(left_join)"
   ]
  },
  {
   "cell_type": "markdown",
   "metadata": {},
   "source": [
    "### Junção Externa à Direita"
   ]
  },
  {
   "cell_type": "code",
   "execution_count": 19,
   "metadata": {},
   "outputs": [
    {
     "name": "stdout",
     "output_type": "stream",
     "text": [
      "\n",
      "Junção externa à direita:\n",
      "     Nome_x Chave Chave1  Idade_x   Cidade_x  Registro_x Departamento_x  \\\n",
      "0  Anderson    C0     C0     24.0     Santos     32123.0             RH   \n",
      "1       NaN    C1     C0      NaN        NaN         NaN            NaN   \n",
      "2       NaN    C2     C0      NaN        NaN         NaN            NaN   \n",
      "3       NaN    C3     C0      NaN        NaN         NaN            NaN   \n",
      "4       NaN    C4     C1      NaN        NaN         NaN            NaN   \n",
      "5   Douglas    C5     C1     20.0  Guarulhos     99348.0             RH   \n",
      "6       NaN    C6     C1      NaN        NaN         NaN            NaN   \n",
      "7       NaN    C7     C1      NaN        NaN         NaN            NaN   \n",
      "\n",
      "  Formação_x    Nome_y  Idade_y   Cidade_y  Registro_y Departamento_y  \\\n",
      "0  Graduação   Gabriel       23  Guarulhos       32948             PD   \n",
      "1        NaN   Janaina       56  Guarulhos       13480            ADM   \n",
      "2        NaN      Luiz       32    Atibaia       22884             PD   \n",
      "3        NaN    Marcos       22  Guarulhos       56821            ADM   \n",
      "4        NaN     Nadja       36     Santos       65938             PD   \n",
      "5    Técnico   Oswaldo       68  Guarulhos       12956             RH   \n",
      "6        NaN  Patricia       22  Guarulhos       75439            ADM   \n",
      "7        NaN   Ricardo       38     Santos       45392             PD   \n",
      "\n",
      "  Formação_y  \n",
      "0    Técnico  \n",
      "1  Graduação  \n",
      "2  Graduação  \n",
      "3  Graduação  \n",
      "4  Graduação  \n",
      "5   Mestrado  \n",
      "6  Graduação  \n",
      "7   Mestrado  \n"
     ]
    }
   ],
   "source": [
    "right_join = pd.merge(dafra1, dafra2, on=['Chave', 'Chave1'], how='right')\n",
    "print(\"\\nJunção externa à direita:\")\n",
    "print(right_join)"
   ]
  },
  {
   "cell_type": "markdown",
   "metadata": {},
   "source": [
    "### Junção Externa Completa"
   ]
  },
  {
   "cell_type": "code",
   "execution_count": 20,
   "metadata": {},
   "outputs": [
    {
     "name": "stdout",
     "output_type": "stream",
     "text": [
      "\n",
      "Junção externa completa:\n",
      "       Nome_x Chave Chave1  Idade_x   Cidade_x  Registro_x Departamento_x  \\\n",
      "0    Anderson    C0     C0     24.0     Santos     32123.0             RH   \n",
      "1         NaN    C1     C0      NaN        NaN         NaN            NaN   \n",
      "2     Beatriz    C1     C1     36.0    Atibaia     45828.0             PD   \n",
      "3         NaN    C2     C0      NaN        NaN         NaN            NaN   \n",
      "4       Bruno    C2     C2     45.0  Guarulhos     34985.0             RH   \n",
      "5         NaN    C3     C0      NaN        NaN         NaN            NaN   \n",
      "6   Cristiano    C3     C3     56.0    Atibaia     13457.0            ADM   \n",
      "7      Daniel    C4     C0     29.0     Santos     98439.0            ADM   \n",
      "8         NaN    C4     C1      NaN        NaN         NaN            NaN   \n",
      "9     Douglas    C5     C1     20.0  Guarulhos     99348.0             RH   \n",
      "10        NaN    C6     C1      NaN        NaN         NaN            NaN   \n",
      "11      Elena    C6     C2     38.0  Guarulhos     45019.0            ADM   \n",
      "12        NaN    C7     C1      NaN        NaN         NaN            NaN   \n",
      "13   Fabricio    C7     C3     47.0    Atibaia     24894.0             PD   \n",
      "\n",
      "   Formação_x    Nome_y  Idade_y   Cidade_y  Registro_y Departamento_y  \\\n",
      "0   Graduação   Gabriel     23.0  Guarulhos     32948.0             PD   \n",
      "1         NaN   Janaina     56.0  Guarulhos     13480.0            ADM   \n",
      "2    Mestrado       NaN      NaN        NaN         NaN            NaN   \n",
      "3         NaN      Luiz     32.0    Atibaia     22884.0             PD   \n",
      "4   Graduação       NaN      NaN        NaN         NaN            NaN   \n",
      "5         NaN    Marcos     22.0  Guarulhos     56821.0            ADM   \n",
      "6     Técnico       NaN      NaN        NaN         NaN            NaN   \n",
      "7   Graduação       NaN      NaN        NaN         NaN            NaN   \n",
      "8         NaN     Nadja     36.0     Santos     65938.0             PD   \n",
      "9     Técnico   Oswaldo     68.0  Guarulhos     12956.0             RH   \n",
      "10        NaN  Patricia     22.0  Guarulhos     75439.0            ADM   \n",
      "11  Graduação       NaN      NaN        NaN         NaN            NaN   \n",
      "12        NaN   Ricardo     38.0     Santos     45392.0             PD   \n",
      "13  Graduação       NaN      NaN        NaN         NaN            NaN   \n",
      "\n",
      "   Formação_y  \n",
      "0     Técnico  \n",
      "1   Graduação  \n",
      "2         NaN  \n",
      "3   Graduação  \n",
      "4         NaN  \n",
      "5   Graduação  \n",
      "6         NaN  \n",
      "7         NaN  \n",
      "8   Graduação  \n",
      "9    Mestrado  \n",
      "10  Graduação  \n",
      "11        NaN  \n",
      "12   Mestrado  \n",
      "13        NaN  \n"
     ]
    }
   ],
   "source": [
    "outer_join = pd.merge(dafra1, dafra2, on=['Chave', 'Chave1'], how='outer')\n",
    "print(\"\\nJunção externa completa:\")\n",
    "print(outer_join)"
   ]
  },
  {
   "cell_type": "markdown",
   "metadata": {},
   "source": [
    "### Produto Cartesiano"
   ]
  },
  {
   "cell_type": "code",
   "execution_count": 22,
   "metadata": {},
   "outputs": [
    {
     "name": "stdout",
     "output_type": "stream",
     "text": [
      "\n",
      "Produto Cartesiano:\n",
      "      Nome_x Chave_x Chave1_x  Idade_x Cidade_x  Registro_x Departamento_x  \\\n",
      "0   Anderson      C0       C0       24   Santos       32123             RH   \n",
      "1   Anderson      C0       C0       24   Santos       32123             RH   \n",
      "2   Anderson      C0       C0       24   Santos       32123             RH   \n",
      "3   Anderson      C0       C0       24   Santos       32123             RH   \n",
      "4   Anderson      C0       C0       24   Santos       32123             RH   \n",
      "..       ...     ...      ...      ...      ...         ...            ...   \n",
      "59  Fabricio      C7       C3       47  Atibaia       24894             PD   \n",
      "60  Fabricio      C7       C3       47  Atibaia       24894             PD   \n",
      "61  Fabricio      C7       C3       47  Atibaia       24894             PD   \n",
      "62  Fabricio      C7       C3       47  Atibaia       24894             PD   \n",
      "63  Fabricio      C7       C3       47  Atibaia       24894             PD   \n",
      "\n",
      "   Formação_x    Nome_y Chave_y Chave1_y  Idade_y   Cidade_y  Registro_y  \\\n",
      "0   Graduação   Gabriel      C0       C0       23  Guarulhos       32948   \n",
      "1   Graduação   Janaina      C1       C0       56  Guarulhos       13480   \n",
      "2   Graduação      Luiz      C2       C0       32    Atibaia       22884   \n",
      "3   Graduação    Marcos      C3       C0       22  Guarulhos       56821   \n",
      "4   Graduação     Nadja      C4       C1       36     Santos       65938   \n",
      "..        ...       ...     ...      ...      ...        ...         ...   \n",
      "59  Graduação    Marcos      C3       C0       22  Guarulhos       56821   \n",
      "60  Graduação     Nadja      C4       C1       36     Santos       65938   \n",
      "61  Graduação   Oswaldo      C5       C1       68  Guarulhos       12956   \n",
      "62  Graduação  Patricia      C6       C1       22  Guarulhos       75439   \n",
      "63  Graduação   Ricardo      C7       C1       38     Santos       45392   \n",
      "\n",
      "   Departamento_y Formação_y  \n",
      "0              PD    Técnico  \n",
      "1             ADM  Graduação  \n",
      "2              PD  Graduação  \n",
      "3             ADM  Graduação  \n",
      "4              PD  Graduação  \n",
      "..            ...        ...  \n",
      "59            ADM  Graduação  \n",
      "60             PD  Graduação  \n",
      "61             RH   Mestrado  \n",
      "62            ADM  Graduação  \n",
      "63             PD   Mestrado  \n",
      "\n",
      "[64 rows x 16 columns]\n"
     ]
    }
   ],
   "source": [
    "produto_cartesiano = pd.merge(dafra1, dafra2, how='cross')\n",
    "print(\"\\nProduto Cartesiano:\")\n",
    "print(produto_cartesiano)"
   ]
  },
  {
   "cell_type": "code",
   "execution_count": null,
   "metadata": {},
   "outputs": [],
   "source": []
  }
 ],
 "metadata": {
  "kernelspec": {
   "display_name": "Python 3 (ipykernel)",
   "language": "python",
   "name": "python3"
  },
  "language_info": {
   "codemirror_mode": {
    "name": "ipython",
    "version": 3
   },
   "file_extension": ".py",
   "mimetype": "text/x-python",
   "name": "python",
   "nbconvert_exporter": "python",
   "pygments_lexer": "ipython3",
   "version": "3.12.6"
  }
 },
 "nbformat": 4,
 "nbformat_minor": 4
}
